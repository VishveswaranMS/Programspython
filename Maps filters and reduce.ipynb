{
 "cells": [
  {
   "cell_type": "code",
   "execution_count": 1,
   "id": "4667145e",
   "metadata": {},
   "outputs": [
    {
     "name": "stdout",
     "output_type": "stream",
     "text": [
      "[4, 16, 25]\n"
     ]
    }
   ],
   "source": [
    "first_list=[2,4,5]\n",
    "print(list(map(lambda x: x**2, first_list)))"
   ]
  },
  {
   "cell_type": "code",
   "execution_count": 2,
   "id": "7ff79f98",
   "metadata": {},
   "outputs": [
    {
     "name": "stdout",
     "output_type": "stream",
     "text": [
      "[1, 8, 27, 64, 125]\n"
     ]
    }
   ],
   "source": [
    "L=[1,2,3,4,5]\n",
    "print(list(map(lambda x: x**3, L)))"
   ]
  },
  {
   "cell_type": "code",
   "execution_count": 3,
   "id": "341f46d9",
   "metadata": {},
   "outputs": [
    {
     "name": "stdout",
     "output_type": "stream",
     "text": [
      "[12, 15, 18]\n"
     ]
    }
   ],
   "source": [
    "L1=[1,2,3]\n",
    "L2=[4,5,6]\n",
    "L3=[7,8,9]\n",
    "print(list(map(lambda x,y,z: x+y+z, L1,L2,L3)))"
   ]
  },
  {
   "cell_type": "code",
   "execution_count": 4,
   "id": "7cb938e8",
   "metadata": {},
   "outputs": [
    {
     "name": "stdout",
     "output_type": "stream",
     "text": [
      "[['r', 'e', 'd'], ['b', 'l', 'u', 'e']]\n"
     ]
    }
   ],
   "source": [
    "colour=['red', 'blue']\n",
    "print(list(map(list, colour)))"
   ]
  },
  {
   "cell_type": "code",
   "execution_count": 7,
   "id": "a74cea3c",
   "metadata": {},
   "outputs": [
    {
     "name": "stdout",
     "output_type": "stream",
     "text": [
      "1\n"
     ]
    }
   ],
   "source": [
    "input_list=['Chennai', 'Coimbatore','Trichy','cuddalore']\n",
    "count=sum(list(map(lambda word: int('c'==word[0]), input_list)))\n",
    "print(count)"
   ]
  },
  {
   "cell_type": "code",
   "execution_count": 12,
   "id": "04510063",
   "metadata": {},
   "outputs": [
    {
     "name": "stdout",
     "output_type": "stream",
     "text": [
      "['Nikola Tesla', 'Albert Einstein', 'James Watt']\n"
     ]
    }
   ],
   "source": [
    "input_1=['nikola', 'albert', 'james']\n",
    "input_2=['tesla', 'einstein', 'watt']\n",
    "\n",
    "print(list(map(lambda x,y: x[0].upper() + x[1:].lower() + \" \" + y[0].upper() + y[1:].lower(), input_1,input_2)))\n"
   ]
  },
  {
   "cell_type": "code",
   "execution_count": 1,
   "id": "5e137b62",
   "metadata": {},
   "outputs": [
    {
     "name": "stdout",
     "output_type": "stream",
     "text": [
      "[3, 6, 9, 12]\n"
     ]
    }
   ],
   "source": [
    "my_list=[3,5,6,8,9,12]\n",
    "print(list(filter(lambda x: x%3==0, my_list)))\n"
   ]
  },
  {
   "cell_type": "code",
   "execution_count": 9,
   "id": "92eea4a5",
   "metadata": {},
   "outputs": [
    {
     "name": "stdout",
     "output_type": "stream",
     "text": [
      "3\n"
     ]
    }
   ],
   "source": [
    "#reduce\n",
    "from functools import reduce\n",
    "q=reduce(lambda x,y: x+y, range(0,3))\n",
    "print(q)"
   ]
  },
  {
   "cell_type": "code",
   "execution_count": 10,
   "id": "ed7ec5e4",
   "metadata": {},
   "outputs": [
    {
     "name": "stdout",
     "output_type": "stream",
     "text": [
      "94\n"
     ]
    }
   ],
   "source": [
    "list_of_nums=[22,45,32,30,87,94,30]\n",
    "print(reduce(lambda x,y: x if x>y else y, list_of_nums))"
   ]
  },
  {
   "cell_type": "code",
   "execution_count": 11,
   "id": "4c359a1a",
   "metadata": {},
   "outputs": [
    {
     "name": "stdout",
     "output_type": "stream",
     "text": [
      "[5, 10, 15, 20]\n"
     ]
    }
   ],
   "source": [
    "input_list=[4,5,6,10,15,16,17,20]\n",
    "print(list(filter(lambda x: x%5==0, input_list)))"
   ]
  },
  {
   "cell_type": "code",
   "execution_count": 19,
   "id": "63d0fd14",
   "metadata": {},
   "outputs": [
    {
     "name": "stdout",
     "output_type": "stream",
     "text": [
      "['salsap']\n"
     ]
    }
   ],
   "source": [
    "input_list =  ['hdjk', 'salsap', 'sherpa']\n",
    "print(list(filter(lambda word: word[0]=='s'and word[-1]=='p', input_list)))\n",
    "#print(list(filter(lambda x: 's'==x[0] and 'p'==x[x.len()-1])))"
   ]
  },
  {
   "cell_type": "code",
   "execution_count": null,
   "id": "95938bc7",
   "metadata": {},
   "outputs": [],
   "source": []
  }
 ],
 "metadata": {
  "kernelspec": {
   "display_name": "Python 3 (ipykernel)",
   "language": "python",
   "name": "python3"
  },
  "language_info": {
   "codemirror_mode": {
    "name": "ipython",
    "version": 3
   },
   "file_extension": ".py",
   "mimetype": "text/x-python",
   "name": "python",
   "nbconvert_exporter": "python",
   "pygments_lexer": "ipython3",
   "version": "3.10.9"
  }
 },
 "nbformat": 4,
 "nbformat_minor": 5
}
